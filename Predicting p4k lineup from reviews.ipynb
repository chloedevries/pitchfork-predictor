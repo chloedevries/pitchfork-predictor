{
 "cells": [
  {
   "cell_type": "code",
   "execution_count": 1,
   "metadata": {},
   "outputs": [],
   "source": [
    "import numpy as np\n",
    "import requests \n",
    "from bs4 import BeautifulSoup\n",
    "import pandas as pd\n",
    "import datetime\n",
    "import matplotlib.pyplot as plt\n",
    "\n",
    "import warnings\n",
    "\n",
    "#from scrapefork import *\n",
    "from cleaning_functions import *\n",
    "from create_pitchfork_lineups_data import *\n",
    "from other_utils import *"
   ]
  },
  {
   "cell_type": "code",
   "execution_count": 2,
   "metadata": {},
   "outputs": [],
   "source": [
    "warnings.simplefilter('ignore')"
   ]
  },
  {
   "cell_type": "markdown",
   "metadata": {},
   "source": [
    "utils files:\n",
    "1. scrapefork.py (borrowed)\n",
    "2. scrape_pitchfork_reviews.py\n",
    "3. scrape_pitchfork_features.py\n",
    "4. create_pitchfork_lineups_data.py\n",
    "5. cleaning_functions.py - all functions used too clean/munge/aggregate data for the model\n",
    "6. other_utils.py - functions to print model performance metrics\n",
    "    \n",
    "data files:\n",
    "1. data/raw_p4k_lineups.txt\n",
    "2. data/pitchfork_reviews.csv\n",
    "3. data/pitchfork_features_with_article_txt.csv"
   ]
  },
  {
   "cell_type": "markdown",
   "metadata": {},
   "source": [
    "### new functions"
   ]
  },
  {
   "cell_type": "code",
   "execution_count": 3,
   "metadata": {},
   "outputs": [],
   "source": [
    "def predict_by_top_probabilities(probability_preds, full_df):\n",
    "    percent_true = full_df.played_fest.mean()\n",
    "    number_true = pd.DataFrame(probability_preds)[1].shape[0] * percent_true\n",
    "    true_prediction_cutoff = pd.DataFrame(probability_preds)[1].sort_values().tail(int(number_true)).min()\n",
    "\n",
    "    reviews_preds_by_prob = (pd.DataFrame(probability_preds)[1] >= true_prediction_cutoff)\n",
    "    return reviews_preds_by_prob"
   ]
  },
  {
   "cell_type": "code",
   "execution_count": 4,
   "metadata": {},
   "outputs": [],
   "source": [
    "# import & clean datasets\n",
    "\n",
    "# lineups\n",
    "filepath = 'data/raw_p4k_lineups.txt'\n",
    "lineups = get_lineups_data(filepath)\n",
    "\n",
    "# reviews\n",
    "reviews_df = pd.read_csv('data/pitchfork_reviews.csv')\n",
    "reviews = clean_reviews_df(reviews_df)\n",
    "\n",
    "# features\n",
    "articles_df = pd.read_csv('data/pitchfork_features_with_article_txt.csv')\n",
    "articles = clean_features_df(articles_df)"
   ]
  },
  {
   "cell_type": "markdown",
   "metadata": {},
   "source": [
    "### first model - reviews"
   ]
  },
  {
   "cell_type": "code",
   "execution_count": 5,
   "metadata": {},
   "outputs": [],
   "source": [
    "# first the reviews model\n",
    "# formatting - \n",
    "reviews_cumul = gather_cumulative_review_data_by_artist(reviews)\n",
    "reviews_cumul_final = add_review_features(reviews_cumul)\n",
    "reviews_dfs = group_cumul_reviews_by_year(reviews_cumul_final)\n",
    "\n",
    "# normalize numeric variables\n",
    "reviews_full_df = join_year_dfs(reviews_dfs)\n",
    "\n",
    "reviews_full_df['score_norm'] \\\n",
    "    = normalize_variable(reviews_full_df, 'score')\n",
    "    \n",
    "reviews_full_df['avg_cumul_score_norm'] \\\n",
    "    = normalize_variable(reviews_full_df, 'avg_cumul_score')\n",
    "\n",
    "reviews_full_df['days_to_announcement_norm'] \\\n",
    "    = normalize_variable(reviews_full_df, 'days_to_announcement')\n",
    "\n",
    "# interaction terms\n",
    "reviews_full_df['score_x_days'] = reviews_full_df.score_norm  \\\n",
    "                    * reviews_full_df.days_to_announcement_norm\n",
    "reviews_full_df['reissue_x_days'] = reviews_full_df.reissue \\\n",
    "                    * reviews_full_df.days_to_announcement_norm\n",
    "reviews_full_df['cumul_score_x_days'] = reviews_full_df.avg_cumul_score_norm \\\n",
    "                    * reviews_full_df.days_to_announcement_norm\n",
    "reviews_full_df['chicago_x_days'] = reviews_full_df.chicago_based \\\n",
    "                    * reviews_full_df.days_to_announcement_norm\n",
    "reviews_full_df['performance_x_days'] = reviews_full_df.performance_mention \\\n",
    "                    * reviews_full_df.days_to_announcement_norm\n",
    "reviews_full_df['best_x_days'] = reviews_full_df.best \\\n",
    "                    * reviews_full_df.days_to_announcement_norm\n",
    "reviews_full_df['chicago_x_score'] = reviews_full_df.chicago_based \\\n",
    "                    * reviews_full_df.score_norm\n",
    "reviews_full_df['performance_x_score'] = reviews_full_df.performance_mention \\\n",
    "                    * reviews_full_df.score_norm\n",
    "reviews_full_df['chicago_x_performance'] = reviews_full_df.chicago_based \\\n",
    "                    * reviews_full_df.performance_mention\n"
   ]
  },
  {
   "cell_type": "code",
   "execution_count": 88,
   "metadata": {},
   "outputs": [],
   "source": [
    "reviews_full_df_sample = reviews_full_df.sample(n=10000)"
   ]
  },
  {
   "cell_type": "code",
   "execution_count": 89,
   "metadata": {},
   "outputs": [
    {
     "data": {
      "text/plain": [
       "(10000, 38)"
      ]
     },
     "execution_count": 89,
     "metadata": {},
     "output_type": "execute_result"
    }
   ],
   "source": [
    "reviews_full_df_sample.shape"
   ]
  },
  {
   "cell_type": "code",
   "execution_count": 90,
   "metadata": {},
   "outputs": [],
   "source": [
    "from sklearn.feature_extraction.text import TfidfVectorizer \n",
    "\n",
    "tfidf_vectorizer = TfidfVectorizer(stop_words = 'english', min_df=10)\n",
    "\n",
    "X_reviews = tfidf_vectorizer.fit_transform(reviews_full_df_sample['review']) \\\n",
    "                            .toarray()\n",
    "\n",
    "reviews_frequency_matrix = pd.DataFrame(X_reviews, columns \n",
    "                                = tfidf_vectorizer.get_feature_names())\n",
    "\n",
    "#reviews_frequency_matrix = pd.read_csv('~/PycharmProjects/sklearn-testing/pitchfork_predictor/saved_features/reviews_frequency_matrix_mindf100.csv')\n"
   ]
  },
  {
   "cell_type": "code",
   "execution_count": 91,
   "metadata": {},
   "outputs": [
    {
     "data": {
      "text/plain": [
       "(10000, 24628)"
      ]
     },
     "execution_count": 91,
     "metadata": {},
     "output_type": "execute_result"
    }
   ],
   "source": [
    "# no mindf\n",
    "reviews_frequency_matrix.shape"
   ]
  },
  {
   "cell_type": "code",
   "execution_count": 92,
   "metadata": {},
   "outputs": [
    {
     "data": {
      "text/plain": [
       "(10000, 24628)"
      ]
     },
     "execution_count": 92,
     "metadata": {},
     "output_type": "execute_result"
    }
   ],
   "source": [
    "# mindf = 5\n",
    "reviews_frequency_matrix.shape"
   ]
  },
  {
   "cell_type": "code",
   "execution_count": 93,
   "metadata": {},
   "outputs": [],
   "source": [
    "reviews_full_full_df = reviews_full_df_sample.reset_index(drop=True) \\\n",
    "                            .join(reviews_frequency_matrix, \n",
    "                                  rsuffix='_review')"
   ]
  },
  {
   "cell_type": "code",
   "execution_count": 94,
   "metadata": {},
   "outputs": [],
   "source": [
    "reviews_model_df = join_lineups(reviews_full_full_df, lineups, 'left')\n",
    "#reviews_model_df = join_lineups(reviews_full_df, lineups, 'left')"
   ]
  },
  {
   "cell_type": "markdown",
   "metadata": {},
   "source": [
    "I started by training on all years 2005 - 2019 and using the 2020 lineup as the test set. \n",
    "Decided this was a bad idea, moved to using sklearn's train_test_split, but this was causing class imbalance between the train and test groups because of the already bad class imbalance inherent in the dataset.\n",
    "Finally, moved to using sklearn's Stratified Shuffle Split which maintains the class ratio across groups"
   ]
  },
  {
   "cell_type": "code",
   "execution_count": 95,
   "metadata": {},
   "outputs": [],
   "source": [
    "reviews_inputs = ['score_norm', 'avg_cumul_score_norm', \n",
    "                  'best', 'previous_reviews_count', \n",
    "                  'performance_mention', 'chicago_based', 'reissue',\n",
    "                  'days_to_announcement_norm', \n",
    "                  'Rock', 'Rap', 'Jazz', 'Experimental', 'Pop/R&B',\n",
    "                  'Electronic', 'Metal', 'Global', 'Folk/Country',\n",
    "                  'score_x_days', 'reissue_x_days',\n",
    "                  'cumul_score_x_days', 'chicago_x_days',\n",
    "                  'performance_x_days', 'best_x_days',\n",
    "                  'chicago_x_score', 'performance_x_score',\n",
    "                  'chicago_x_performance'] \\\n",
    "                    + reviews_model_df.columns.tolist()[38:]\n",
    "\n",
    "output = ['played_fest']\n",
    "\n",
    "# 2020 as test group\n",
    "#reviews_training_set = reviews_model_df.loc[\n",
    "#                    reviews_model_df.fest_date != '2020-07-15'].reset_index(drop=True)\n",
    "#reviews_test_set = reviews_model_df.loc[\n",
    "#                    reviews_model_df.fest_date == '2020-07-15'].reset_index(drop=True)\n",
    "\n",
    "#X_train = reviews_training_set[reviews_inputs]\n",
    "#y_train = reviews_training_set[output].astype('int')\n",
    "#X_test = reviews_test_set[reviews_inputs]\n",
    "#y_test = reviews_test_set[output].astype('int')\n",
    "\n",
    "# sklearn train test split\n",
    "#X_train, X_test, y_train, y_test \\\n",
    "#        = train_test_split(reviews_model_df[reviews_inputs], \n",
    "#                           reviews_model_df[output], test_size=0.33, random_state=42)\n",
    "\n",
    "# best solution so far - using stratified shuffle split\n",
    "from sklearn.model_selection import StratifiedShuffleSplit\n",
    "\n",
    "X = reviews_model_df[reviews_inputs]\n",
    "y = reviews_model_df[output]\n",
    "\n",
    "sss = StratifiedShuffleSplit(n_splits=2, test_size=0.33, random_state=42)\n",
    "sss.split(X, y)\n",
    "\n",
    "for train_index, test_index in sss.split(X, y):\n",
    "    X_train, X_test = pd.DataFrame(np.asarray(X)[train_index], columns = reviews_inputs), \\\n",
    "                            pd.DataFrame(np.asarray(X)[test_index], columns = reviews_inputs)\n",
    "    y_train, y_test = pd.DataFrame(np.asarray(y)[train_index], columns = output), \\\n",
    "                            pd.DataFrame(np.asarray(y)[test_index], columns = output)"
   ]
  },
  {
   "cell_type": "code",
   "execution_count": 96,
   "metadata": {},
   "outputs": [
    {
     "name": "stdout",
     "output_type": "stream",
     "text": [
      "share of trues in full df: 0.0068\n",
      "share of trues in training set: 0.00687\n",
      "share of trues in test set: 0.00667\n"
     ]
    }
   ],
   "source": [
    "# sss maintains class ratio\n",
    "print(f'share of trues in full df: {reviews_model_df.played_fest.mean().round(5)}')\n",
    "print(f'share of trues in training set: {y_train.played_fest.mean().round(5)}')\n",
    "print(f'share of trues in test set: {y_test.played_fest.mean().round(5)}')"
   ]
  },
  {
   "cell_type": "code",
   "execution_count": 97,
   "metadata": {},
   "outputs": [
    {
     "data": {
      "text/plain": [
       "RandomForestClassifier(bootstrap=True, ccp_alpha=0.0, class_weight=None,\n",
       "                       criterion='gini', max_depth=None, max_features='auto',\n",
       "                       max_leaf_nodes=None, max_samples=None,\n",
       "                       min_impurity_decrease=0.0, min_impurity_split=None,\n",
       "                       min_samples_leaf=1, min_samples_split=2,\n",
       "                       min_weight_fraction_leaf=0.0, n_estimators=100,\n",
       "                       n_jobs=None, oob_score=False, random_state=None,\n",
       "                       verbose=0, warm_start=False)"
      ]
     },
     "execution_count": 97,
     "metadata": {},
     "output_type": "execute_result"
    }
   ],
   "source": [
    "from sklearn.ensemble import RandomForestClassifier\n",
    "\n",
    "reviews_model = RandomForestClassifier()\n",
    "reviews_model.fit(X_train, y_train)"
   ]
  },
  {
   "cell_type": "code",
   "execution_count": 98,
   "metadata": {},
   "outputs": [
    {
     "name": "stdout",
     "output_type": "stream",
     "text": [
      "f1:  0.0\n",
      "accuracy:  0.993\n",
      "precision:  0.0\n",
      "recall:  0.0\n",
      "              predicted false  predicted true\n",
      "actual false             3276               2\n",
      "actual true                22               0\n"
     ]
    }
   ],
   "source": [
    "# performance LOL\n",
    "from sklearn.metrics import f1_score, accuracy_score, precision_score, \\\n",
    "                            recall_score, confusion_matrix\n",
    "\n",
    "reviews_preds = reviews_model.predict(X_test)\n",
    "reviews_prob_preds = reviews_model.predict_proba(X_test)\n",
    "print_performance_metrics(y_test, reviews_preds)"
   ]
  },
  {
   "cell_type": "code",
   "execution_count": 99,
   "metadata": {},
   "outputs": [
    {
     "name": "stdout",
     "output_type": "stream",
     "text": [
      "f1:  0.913\n",
      "accuracy:  0.999\n",
      "precision:  0.875\n",
      "recall:  0.955\n",
      "              predicted false  predicted true\n",
      "actual false             3275               3\n",
      "actual true                 1              21\n"
     ]
    }
   ],
   "source": [
    "reviews_preds_by_prob = predict_by_top_probabilities(reviews_prob_preds, reviews_model_df)\n",
    "print_performance_metrics(y_test, reviews_preds_by_prob)"
   ]
  },
  {
   "cell_type": "code",
   "execution_count": 100,
   "metadata": {},
   "outputs": [
    {
     "name": "stdout",
     "output_type": "stream",
     "text": [
      "f1:  1.0\n",
      "accuracy:  1.0\n",
      "precision:  1.0\n",
      "recall:  1.0\n",
      "              predicted false  predicted true\n",
      "actual false             6654               0\n",
      "actual true                 0              46\n"
     ]
    }
   ],
   "source": [
    "reviews_training_preds = reviews_model.predict(X_train)\n",
    "reviews_training_prob_preds = reviews_model.predict_proba(X_train)\n",
    "print_performance_metrics(y_train, reviews_training_preds)"
   ]
  },
  {
   "cell_type": "code",
   "execution_count": 101,
   "metadata": {},
   "outputs": [
    {
     "name": "stdout",
     "output_type": "stream",
     "text": [
      "f1:  0.989\n",
      "accuracy:  1.0\n",
      "precision:  1.0\n",
      "recall:  0.978\n",
      "              predicted false  predicted true\n",
      "actual false             6654               0\n",
      "actual true                 1              45\n"
     ]
    }
   ],
   "source": [
    "reviews_training_preds_by_prob = predict_by_top_probabilities(reviews_training_prob_preds, reviews_model_df)\n",
    "print_performance_metrics(y_train, reviews_training_preds_by_prob)"
   ]
  },
  {
   "cell_type": "code",
   "execution_count": 60,
   "metadata": {},
   "outputs": [
    {
     "data": {
      "text/plain": [
       "<matplotlib.collections.PathCollection at 0x166045b50>"
      ]
     },
     "execution_count": 60,
     "metadata": {},
     "output_type": "execute_result"
    },
    {
     "data": {
      "image/png": "[encoded data removed]",
      "text/plain": [
       "<Figure size 432x288 with 1 Axes>"
      ]
     },
     "metadata": {
      "needs_background": "light"
     },
     "output_type": "display_data"
    }
   ],
   "source": [
    "x = X_train.score_norm\n",
    "y = pd.DataFrame(reviews_training_prob_preds)[1]\n",
    "plt.scatter(x, y, c=y_train.played_fest)"
   ]
  },
  {
   "cell_type": "code",
   "execution_count": 61,
   "metadata": {},
   "outputs": [
    {
     "data": {
      "text/plain": [
       "<matplotlib.collections.PathCollection at 0x17a4d1a10>"
      ]
     },
     "execution_count": 61,
     "metadata": {},
     "output_type": "execute_result"
    },
    {
     "data": {
      "image/png": "[encoded data removed]",
      "text/plain": [
       "<Figure size 432x288 with 1 Axes>"
      ]
     },
     "metadata": {
      "needs_background": "light"
     },
     "output_type": "display_data"
    }
   ],
   "source": [
    "x = X_test.score_norm\n",
    "y = pd.DataFrame(reviews_prob_preds)[1]\n",
    "plt.scatter(x, y, c=y_test.played_fest, alpha=.5)"
   ]
  },
  {
   "cell_type": "code",
   "execution_count": 62,
   "metadata": {},
   "outputs": [
    {
     "data": {
      "text/plain": [
       "<matplotlib.collections.PathCollection at 0x17a4d1a50>"
      ]
     },
     "execution_count": 62,
     "metadata": {},
     "output_type": "execute_result"
    },
    {
     "data": {
      "image/png": "[encoded data removed]",
      "text/plain": [
       "<Figure size 432x288 with 1 Axes>"
      ]
     },
     "metadata": {
      "needs_background": "light"
     },
     "output_type": "display_data"
    }
   ],
   "source": [
    "x = reviews_training_preds_by_prob\n",
    "y = pd.DataFrame(reviews_training_prob_preds)[1]\n",
    "plt.scatter(x, y, c=y_train.played_fest, alpha = .5)"
   ]
  },
  {
   "cell_type": "code",
   "execution_count": 63,
   "metadata": {},
   "outputs": [
    {
     "data": {
      "text/plain": [
       "<matplotlib.collections.PathCollection at 0x12115cc50>"
      ]
     },
     "execution_count": 63,
     "metadata": {},
     "output_type": "execute_result"
    },
    {
     "data": {
      "image/png": "[encoded data removed]",
      "text/plain": [
       "<Figure size 432x288 with 1 Axes>"
      ]
     },
     "metadata": {
      "needs_background": "light"
     },
     "output_type": "display_data"
    }
   ],
   "source": [
    "x = reviews_preds_by_prob\n",
    "y = pd.DataFrame(reviews_prob_preds)[1]\n",
    "plt.scatter(x, y, c=y_test.played_fest)\n"
   ]
  },
  {
   "cell_type": "code",
   "execution_count": 86,
   "metadata": {},
   "outputs": [
    {
     "data": {
      "image/png": "[encoded data removed]",
      "text/plain": [
       "<Figure size 432x288 with 1 Axes>"
      ]
     },
     "metadata": {
      "needs_background": "light"
     },
     "output_type": "display_data"
    }
   ],
   "source": [
    "# training\n",
    "from sklearn.metrics import roc_curve, auc\n",
    "fpr, tpr, thresholds = roc_curve(y_train, pd.DataFrame(reviews_training_prob_preds)[1])\n",
    "\n",
    "roc_auc = auc(fpr, tpr)\n",
    "plt.plot(fpr, tpr, color='darkorange',\n",
    "         lw=2, label='ROC curve (area = %0.2f)' % roc_auc)\n",
    "plt.plot([0, 1], [0, 1], color='navy', lw=2, linestyle='--')\n",
    "#print thresholds.shape\n",
    "#plt.scatter(fpr, tpr)\n",
    "#for i, txt in enumerate(thresholds):\n",
    "#    plt.annotate(' ' + str(txt), (fpr[i], tpr[i]))\n",
    "plt.xlim([-.01, 1.0])\n",
    "plt.ylim([0.0, 1.05])\n",
    "plt.xlabel('False Positive Rate')\n",
    "plt.ylabel('True Positive Rate')\n",
    "plt.title('Receiver operating characteristic example')\n",
    "plt.legend(loc=\"lower right\")\n",
    "plt.show()"
   ]
  },
  {
   "cell_type": "code",
   "execution_count": 87,
   "metadata": {},
   "outputs": [
    {
     "data": {
      "image/png": "[encoded data removed]",
      "text/plain": [
       "<Figure size 432x288 with 1 Axes>"
      ]
     },
     "metadata": {
      "needs_background": "light"
     },
     "output_type": "display_data"
    }
   ],
   "source": [
    "# test\n",
    "fpr, tpr, thresholds = roc_curve(y_test, pd.DataFrame(reviews_prob_preds)[1])\n",
    "\n",
    "roc_auc = auc(fpr, tpr)\n",
    "plt.plot(fpr, tpr, color='darkorange',\n",
    "         lw=2, label='ROC curve (area = %0.2f)' % roc_auc)\n",
    "plt.plot([0, 1], [0, 1], color='navy', lw=2, linestyle='--')\n",
    "#print thresholds.shape\n",
    "#plt.scatter(fpr, tpr)\n",
    "#for i, txt in enumerate(thresholds):\n",
    "#    plt.annotate(' ' + str(txt), (fpr[i], tpr[i]))\n",
    "plt.xlim([-.01, 1.0])\n",
    "plt.ylim([0.0, 1.05])\n",
    "plt.xlabel('False Positive Rate')\n",
    "plt.ylabel('True Positive Rate')\n",
    "plt.title('Receiver operating characteristic example')\n",
    "plt.legend(loc=\"lower right\")\n",
    "plt.show()"
   ]
  },
  {
   "cell_type": "code",
   "execution_count": null,
   "metadata": {},
   "outputs": [],
   "source": [
    "# trying out grid search to tune model\n",
    "from sklearn.metrics import make_scorer\n",
    "from sklearn.model_selection import GridSearchCV\n",
    "\n",
    "reviews_model = RandomForestClassifier()\n",
    "\n",
    "parameters = {'max_depth':[10, 12, 15],\n",
    "              'n_estimators':[100, 200],\n",
    "              'min_samples_split':[6, 8],\n",
    "              'min_samples_leaf':[2, 4, 6]}\n",
    "\n",
    "scorer = make_scorer(f1_score)\n",
    "grid_obj = GridSearchCV(reviews_model, parameters, scoring=scorer)\n",
    "grid_fit = grid_obj.fit(X_train, y_train)\n",
    "\n",
    "best_reviews_model = grid_fit.best_estimator_\n",
    "best_reviews_model.fit(X_train, y_train)\n",
    "\n",
    "best_train_predictions = best_reviews_model.predict(X_train)\n",
    "best_test_predictions = best_reviews_model.predict(X_test)\n",
    "\n",
    "print('training f1: ', f1_score(best_train_predictions, y_train))\n",
    "print('test f1: ', f1_score(best_test_predictions, y_test))\n",
    "\n",
    "best_reviews_model"
   ]
  },
  {
   "cell_type": "code",
   "execution_count": null,
   "metadata": {},
   "outputs": [],
   "source": [
    "# performance on test set\n",
    "reviews_preds = best_reviews_model.predict(X_test)\n",
    "reviews_prob_preds = best_reviews_model.predict_proba(X_test)\n",
    "\n",
    "print_performance_metrics(y_test, reviews_preds)"
   ]
  },
  {
   "cell_type": "code",
   "execution_count": null,
   "metadata": {},
   "outputs": [],
   "source": [
    "# performance on training set\n",
    "reviews_training_preds = best_reviews_model.predict(X_train)\n",
    "reviews_training_prob_preds = best_reviews_model.predict_proba(X_train)\n",
    "\n",
    "print_performance_metrics(y_train, \n",
    "                          reviews_training_preds)"
   ]
  },
  {
   "cell_type": "code",
   "execution_count": 59,
   "metadata": {},
   "outputs": [
    {
     "data": {
      "text/html": [
       "<div>\n",
       "<style scoped>\n",
       "    .dataframe tbody tr th:only-of-type {\n",
       "        vertical-align: middle;\n",
       "    }\n",
       "\n",
       "    .dataframe tbody tr th {\n",
       "        vertical-align: top;\n",
       "    }\n",
       "\n",
       "    .dataframe thead th {\n",
       "        text-align: right;\n",
       "    }\n",
       "</style>\n",
       "<table border=\"1\" class=\"dataframe\">\n",
       "  <thead>\n",
       "    <tr style=\"text-align: right;\">\n",
       "      <th></th>\n",
       "      <th>0</th>\n",
       "      <th>1</th>\n",
       "    </tr>\n",
       "  </thead>\n",
       "  <tbody>\n",
       "    <tr>\n",
       "      <th>25658</th>\n",
       "      <td>played_fest</td>\n",
       "      <td>0.034036</td>\n",
       "    </tr>\n",
       "    <tr>\n",
       "      <th>7</th>\n",
       "      <td>days_to_announcement_norm</td>\n",
       "      <td>0.015165</td>\n",
       "    </tr>\n",
       "    <tr>\n",
       "      <th>19</th>\n",
       "      <td>cumul_score_x_days</td>\n",
       "      <td>0.013175</td>\n",
       "    </tr>\n",
       "    <tr>\n",
       "      <th>17</th>\n",
       "      <td>score_x_days</td>\n",
       "      <td>0.011861</td>\n",
       "    </tr>\n",
       "    <tr>\n",
       "      <th>25657</th>\n",
       "      <td>played_previous_fest</td>\n",
       "      <td>0.010016</td>\n",
       "    </tr>\n",
       "    <tr>\n",
       "      <th>269</th>\n",
       "      <td>96</td>\n",
       "      <td>0.004170</td>\n",
       "    </tr>\n",
       "    <tr>\n",
       "      <th>4359</th>\n",
       "      <td>collegiate</td>\n",
       "      <td>0.004120</td>\n",
       "    </tr>\n",
       "    <tr>\n",
       "      <th>17950</th>\n",
       "      <td>rae</td>\n",
       "      <td>0.003984</td>\n",
       "    </tr>\n",
       "    <tr>\n",
       "      <th>11737</th>\n",
       "      <td>instinctual</td>\n",
       "      <td>0.003882</td>\n",
       "    </tr>\n",
       "    <tr>\n",
       "      <th>8001</th>\n",
       "      <td>execute</td>\n",
       "      <td>0.003844</td>\n",
       "    </tr>\n",
       "    <tr>\n",
       "      <th>8701</th>\n",
       "      <td>flaming</td>\n",
       "      <td>0.003732</td>\n",
       "    </tr>\n",
       "    <tr>\n",
       "      <th>3640</th>\n",
       "      <td>ceo</td>\n",
       "      <td>0.003632</td>\n",
       "    </tr>\n",
       "    <tr>\n",
       "      <th>16183</th>\n",
       "      <td>parquet</td>\n",
       "      <td>0.003542</td>\n",
       "    </tr>\n",
       "    <tr>\n",
       "      <th>19178</th>\n",
       "      <td>roasted</td>\n",
       "      <td>0.003357</td>\n",
       "    </tr>\n",
       "    <tr>\n",
       "      <th>8750</th>\n",
       "      <td>fleet</td>\n",
       "      <td>0.003159</td>\n",
       "    </tr>\n",
       "    <tr>\n",
       "      <th>10556</th>\n",
       "      <td>helium</td>\n",
       "      <td>0.002796</td>\n",
       "    </tr>\n",
       "    <tr>\n",
       "      <th>19863</th>\n",
       "      <td>scuttled</td>\n",
       "      <td>0.002748</td>\n",
       "    </tr>\n",
       "    <tr>\n",
       "      <th>5843</th>\n",
       "      <td>deerhoof</td>\n",
       "      <td>0.002738</td>\n",
       "    </tr>\n",
       "    <tr>\n",
       "      <th>23949</th>\n",
       "      <td>underdogs</td>\n",
       "      <td>0.002738</td>\n",
       "    </tr>\n",
       "    <tr>\n",
       "      <th>11107</th>\n",
       "      <td>iceage</td>\n",
       "      <td>0.002690</td>\n",
       "    </tr>\n",
       "    <tr>\n",
       "      <th>20433</th>\n",
       "      <td>sidewalk</td>\n",
       "      <td>0.002681</td>\n",
       "    </tr>\n",
       "    <tr>\n",
       "      <th>16880</th>\n",
       "      <td>plowing</td>\n",
       "      <td>0.002654</td>\n",
       "    </tr>\n",
       "    <tr>\n",
       "      <th>10461</th>\n",
       "      <td>health</td>\n",
       "      <td>0.002631</td>\n",
       "    </tr>\n",
       "    <tr>\n",
       "      <th>19114</th>\n",
       "      <td>rink</td>\n",
       "      <td>0.002584</td>\n",
       "    </tr>\n",
       "    <tr>\n",
       "      <th>18071</th>\n",
       "      <td>rashad</td>\n",
       "      <td>0.002506</td>\n",
       "    </tr>\n",
       "    <tr>\n",
       "      <th>21792</th>\n",
       "      <td>storied</td>\n",
       "      <td>0.002498</td>\n",
       "    </tr>\n",
       "    <tr>\n",
       "      <th>10537</th>\n",
       "      <td>heft</td>\n",
       "      <td>0.002493</td>\n",
       "    </tr>\n",
       "    <tr>\n",
       "      <th>21386</th>\n",
       "      <td>spotless</td>\n",
       "      <td>0.002436</td>\n",
       "    </tr>\n",
       "    <tr>\n",
       "      <th>244</th>\n",
       "      <td>79</td>\n",
       "      <td>0.002430</td>\n",
       "    </tr>\n",
       "    <tr>\n",
       "      <th>14443</th>\n",
       "      <td>misfit</td>\n",
       "      <td>0.002305</td>\n",
       "    </tr>\n",
       "  </tbody>\n",
       "</table>\n",
       "</div>"
      ],
      "text/plain": [
       "                               0         1\n",
       "25658                played_fest  0.034036\n",
       "7      days_to_announcement_norm  0.015165\n",
       "19            cumul_score_x_days  0.013175\n",
       "17                  score_x_days  0.011861\n",
       "25657       played_previous_fest  0.010016\n",
       "269                           96  0.004170\n",
       "4359                  collegiate  0.004120\n",
       "17950                        rae  0.003984\n",
       "11737                instinctual  0.003882\n",
       "8001                     execute  0.003844\n",
       "8701                     flaming  0.003732\n",
       "3640                         ceo  0.003632\n",
       "16183                    parquet  0.003542\n",
       "19178                    roasted  0.003357\n",
       "8750                       fleet  0.003159\n",
       "10556                     helium  0.002796\n",
       "19863                   scuttled  0.002748\n",
       "5843                    deerhoof  0.002738\n",
       "23949                  underdogs  0.002738\n",
       "11107                     iceage  0.002690\n",
       "20433                   sidewalk  0.002681\n",
       "16880                    plowing  0.002654\n",
       "10461                     health  0.002631\n",
       "19114                       rink  0.002584\n",
       "18071                     rashad  0.002506\n",
       "21792                    storied  0.002498\n",
       "10537                       heft  0.002493\n",
       "21386                   spotless  0.002436\n",
       "244                           79  0.002430\n",
       "14443                     misfit  0.002305"
      ]
     },
     "execution_count": 59,
     "metadata": {},
     "output_type": "execute_result"
    }
   ],
   "source": [
    "# look at feature importances\n",
    "pd.DataFrame(zip(reviews_inputs, reviews_model.feature_importances_)).sort_values(1, ascending=False).head(30)"
   ]
  },
  {
   "cell_type": "code",
   "execution_count": 32,
   "metadata": {},
   "outputs": [
    {
     "data": {
      "text/html": [
       "<div>\n",
       "<style scoped>\n",
       "    .dataframe tbody tr th:only-of-type {\n",
       "        vertical-align: middle;\n",
       "    }\n",
       "\n",
       "    .dataframe tbody tr th {\n",
       "        vertical-align: top;\n",
       "    }\n",
       "\n",
       "    .dataframe thead th {\n",
       "        text-align: right;\n",
       "    }\n",
       "</style>\n",
       "<table border=\"1\" class=\"dataframe\">\n",
       "  <thead>\n",
       "    <tr style=\"text-align: right;\">\n",
       "      <th></th>\n",
       "      <th>artist_clean</th>\n",
       "      <th>fest_date</th>\n",
       "      <th>artist_review</th>\n",
       "      <th>album_review</th>\n",
       "      <th>score_review</th>\n",
       "      <th>genre_review</th>\n",
       "      <th>review_review</th>\n",
       "      <th>best_review</th>\n",
       "      <th>date_clean</th>\n",
       "      <th>previous_reviews_count</th>\n",
       "      <th>...</th>\n",
       "      <th>zé</th>\n",
       "      <th>âme</th>\n",
       "      <th>élan</th>\n",
       "      <th>ólöf</th>\n",
       "      <th>öyster</th>\n",
       "      <th>øye</th>\n",
       "      <th>über</th>\n",
       "      <th>รก</th>\n",
       "      <th>played_previous_fest</th>\n",
       "      <th>played_fest</th>\n",
       "    </tr>\n",
       "  </thead>\n",
       "  <tbody>\n",
       "    <tr>\n",
       "      <th>0</th>\n",
       "      <td>hood</td>\n",
       "      <td>2012-07-15</td>\n",
       "      <td>Hood</td>\n",
       "      <td>Recollected</td>\n",
       "      <td>8.5</td>\n",
       "      <td>Rock</td>\n",
       "      <td>Best new reissue Since 1990, the Leeds, Englan...</td>\n",
       "      <td>1</td>\n",
       "      <td>2012-02-24</td>\n",
       "      <td>1</td>\n",
       "      <td>...</td>\n",
       "      <td>0.0</td>\n",
       "      <td>0.0</td>\n",
       "      <td>0.0</td>\n",
       "      <td>0.0</td>\n",
       "      <td>0.0</td>\n",
       "      <td>0.0</td>\n",
       "      <td>0.0</td>\n",
       "      <td>0.0</td>\n",
       "      <td>False</td>\n",
       "      <td>False</td>\n",
       "    </tr>\n",
       "    <tr>\n",
       "      <th>1</th>\n",
       "      <td>jürgen paape</td>\n",
       "      <td>2013-07-15</td>\n",
       "      <td>Jürgen Paape</td>\n",
       "      <td>Kompilation</td>\n",
       "      <td>7.9</td>\n",
       "      <td>Electronic</td>\n",
       "      <td>Despite a lack of prolificness, Kompakt co-fou...</td>\n",
       "      <td>0</td>\n",
       "      <td>2011-01-05</td>\n",
       "      <td>1</td>\n",
       "      <td>...</td>\n",
       "      <td>0.0</td>\n",
       "      <td>0.0</td>\n",
       "      <td>0.0</td>\n",
       "      <td>0.0</td>\n",
       "      <td>0.0</td>\n",
       "      <td>0.0</td>\n",
       "      <td>0.0</td>\n",
       "      <td>0.0</td>\n",
       "      <td>False</td>\n",
       "      <td>False</td>\n",
       "    </tr>\n",
       "    <tr>\n",
       "      <th>2</th>\n",
       "      <td>a weather</td>\n",
       "      <td>2012-07-15</td>\n",
       "      <td>A Weather</td>\n",
       "      <td>Everyday Balloons</td>\n",
       "      <td>7.0</td>\n",
       "      <td>Rock</td>\n",
       "      <td>Portland band effectively translates its once-...</td>\n",
       "      <td>0</td>\n",
       "      <td>2010-03-24</td>\n",
       "      <td>2</td>\n",
       "      <td>...</td>\n",
       "      <td>0.0</td>\n",
       "      <td>0.0</td>\n",
       "      <td>0.0</td>\n",
       "      <td>0.0</td>\n",
       "      <td>0.0</td>\n",
       "      <td>0.0</td>\n",
       "      <td>0.0</td>\n",
       "      <td>0.0</td>\n",
       "      <td>False</td>\n",
       "      <td>False</td>\n",
       "    </tr>\n",
       "    <tr>\n",
       "      <th>3</th>\n",
       "      <td>black tusk</td>\n",
       "      <td>2019-07-15</td>\n",
       "      <td>Black Tusk</td>\n",
       "      <td>Pillars of Ash</td>\n",
       "      <td>8.2</td>\n",
       "      <td>Metal</td>\n",
       "      <td>The Savannah sludge metal band Black Tusk's fi...</td>\n",
       "      <td>0</td>\n",
       "      <td>2016-02-02</td>\n",
       "      <td>2</td>\n",
       "      <td>...</td>\n",
       "      <td>0.0</td>\n",
       "      <td>0.0</td>\n",
       "      <td>0.0</td>\n",
       "      <td>0.0</td>\n",
       "      <td>0.0</td>\n",
       "      <td>0.0</td>\n",
       "      <td>0.0</td>\n",
       "      <td>0.0</td>\n",
       "      <td>False</td>\n",
       "      <td>False</td>\n",
       "    </tr>\n",
       "    <tr>\n",
       "      <th>4</th>\n",
       "      <td>noveller</td>\n",
       "      <td>2018-07-15</td>\n",
       "      <td>Noveller</td>\n",
       "      <td>A Pink Sunset For No One</td>\n",
       "      <td>6.5</td>\n",
       "      <td>Rock</td>\n",
       "      <td>This is Sarah Lipstate’s biggest record as Nov...</td>\n",
       "      <td>0</td>\n",
       "      <td>2017-02-18</td>\n",
       "      <td>4</td>\n",
       "      <td>...</td>\n",
       "      <td>0.0</td>\n",
       "      <td>0.0</td>\n",
       "      <td>0.0</td>\n",
       "      <td>0.0</td>\n",
       "      <td>0.0</td>\n",
       "      <td>0.0</td>\n",
       "      <td>0.0</td>\n",
       "      <td>0.0</td>\n",
       "      <td>False</td>\n",
       "      <td>False</td>\n",
       "    </tr>\n",
       "  </tbody>\n",
       "</table>\n",
       "<p>5 rows × 25671 columns</p>\n",
       "</div>"
      ],
      "text/plain": [
       "   artist_clean  fest_date artist_review              album_review  \\\n",
       "0          hood 2012-07-15          Hood               Recollected   \n",
       "1  jürgen paape 2013-07-15  Jürgen Paape               Kompilation   \n",
       "2     a weather 2012-07-15     A Weather         Everyday Balloons   \n",
       "3    black tusk 2019-07-15    Black Tusk            Pillars of Ash   \n",
       "4      noveller 2018-07-15      Noveller  A Pink Sunset For No One   \n",
       "\n",
       "   score_review genre_review  \\\n",
       "0           8.5         Rock   \n",
       "1           7.9   Electronic   \n",
       "2           7.0         Rock   \n",
       "3           8.2        Metal   \n",
       "4           6.5         Rock   \n",
       "\n",
       "                                       review_review  best_review date_clean  \\\n",
       "0  Best new reissue Since 1990, the Leeds, Englan...            1 2012-02-24   \n",
       "1  Despite a lack of prolificness, Kompakt co-fou...            0 2011-01-05   \n",
       "2  Portland band effectively translates its once-...            0 2010-03-24   \n",
       "3  The Savannah sludge metal band Black Tusk's fi...            0 2016-02-02   \n",
       "4  This is Sarah Lipstate’s biggest record as Nov...            0 2017-02-18   \n",
       "\n",
       "   previous_reviews_count  ...   zé  âme  élan  ólöf  öyster  øye  über   รก  \\\n",
       "0                       1  ...  0.0  0.0   0.0   0.0     0.0  0.0   0.0  0.0   \n",
       "1                       1  ...  0.0  0.0   0.0   0.0     0.0  0.0   0.0  0.0   \n",
       "2                       2  ...  0.0  0.0   0.0   0.0     0.0  0.0   0.0  0.0   \n",
       "3                       2  ...  0.0  0.0   0.0   0.0     0.0  0.0   0.0  0.0   \n",
       "4                       4  ...  0.0  0.0   0.0   0.0     0.0  0.0   0.0  0.0   \n",
       "\n",
       "   played_previous_fest  played_fest  \n",
       "0                 False        False  \n",
       "1                 False        False  \n",
       "2                 False        False  \n",
       "3                 False        False  \n",
       "4                 False        False  \n",
       "\n",
       "[5 rows x 25671 columns]"
      ]
     },
     "execution_count": 32,
     "metadata": {},
     "output_type": "execute_result"
    }
   ],
   "source": [
    "reviews_model_df.head()#loc[reviews_model_df.review.str.contains('flooded')]"
   ]
  },
  {
   "cell_type": "markdown",
   "metadata": {},
   "source": [
    "### second model - articles"
   ]
  },
  {
   "cell_type": "code",
   "execution_count": null,
   "metadata": {},
   "outputs": [],
   "source": [
    "# now the articles model\n",
    "# formatting - \n",
    "articles_dfs = group_articles_by_year(articles)\n",
    "\n",
    "# join into full df\n",
    "articles_full_df = join_year_dfs(articles_dfs)\n",
    "# normalize date var\n",
    "articles_full_df['days_to_announcement_norm'] \\\n",
    "    = normalize_variable(articles_full_df, 'days_to_announcement')"
   ]
  },
  {
   "cell_type": "code",
   "execution_count": null,
   "metadata": {},
   "outputs": [],
   "source": [
    "from sklearn.feature_extraction.text import TfidfVectorizer \n",
    "\n",
    "tfidf_vectorizer = TfidfVectorizer(stop_words = 'english')\n",
    "\n",
    "X_article = tfidf_vectorizer.fit_transform(articles_full_df['article']).toarray()\n",
    "\n",
    "articles_frequency_matrix = pd.DataFrame(X_article, columns \n",
    "                                = tfidf_vectorizer.get_feature_names())"
   ]
  },
  {
   "cell_type": "code",
   "execution_count": null,
   "metadata": {},
   "outputs": [],
   "source": [
    "articles_full_full_df = articles_full_df.reset_index(drop=True) \\\n",
    "                    .join(articles_frequency_matrix, lsuffix='_article')"
   ]
  },
  {
   "cell_type": "code",
   "execution_count": null,
   "metadata": {},
   "outputs": [],
   "source": [
    "# join y col\n",
    "articles_model_df = join_lineups(articles_full_full_df, \n",
    "                                 lineups, 'left')"
   ]
  },
  {
   "cell_type": "code",
   "execution_count": null,
   "metadata": {},
   "outputs": [],
   "source": [
    "# train articles sub-model\n",
    "articles_training_set = articles_model_df.loc[\n",
    "                        articles_model_df.fest_date != '2020-07-15']\n",
    "articles_test_set = articles_model_df.loc[\n",
    "                        articles_model_df.fest_date == '2020-07-15']\n",
    "\n",
    "articles_inputs = ['days_to_announcement_norm', 'artist_count',\n",
    "                   'Interview', 'Moodboard', 'Rising', 'Song by Song',\n",
    "                   '5-10-15-20', 'Longform', 'Profile', 'Lists & Guides', \n",
    "                   'Photo Gallery', 'Podcast', 'Family Matters', \n",
    "                   'Overtones', 'Festival Report', 'Cover Story',\n",
    "                   'Afterword', 'Situation Critical', 'Director\\'s Cut'] \\\n",
    "                    + tfidf_vectorizer.get_feature_names()\n",
    "\n",
    "output = ['played_fest']"
   ]
  },
  {
   "cell_type": "code",
   "execution_count": null,
   "metadata": {},
   "outputs": [],
   "source": [
    "X_train = articles_training_set[articles_inputs]\n",
    "y_train = articles_training_set[output].astype('int')\n",
    "X_test = articles_test_set[articles_inputs]\n",
    "y_test = articles_test_set[output].astype('int')\n",
    "\n",
    "articles_model = RandomForestClassifier()\n",
    "articles_model.fit(X_train, y_train)"
   ]
  },
  {
   "cell_type": "code",
   "execution_count": null,
   "metadata": {},
   "outputs": [],
   "source": [
    "# basic performance\n",
    "articles_preds = articles_model.predict(X_test)\n",
    "print_performance_metrics(y_test, articles_preds)"
   ]
  },
  {
   "cell_type": "code",
   "execution_count": null,
   "metadata": {},
   "outputs": [],
   "source": [
    "# basic performance on training\n",
    "articles_training_preds = articles_model.predict(X_train)\n",
    "print_performance_metrics(y_train, articles_training_preds)"
   ]
  },
  {
   "cell_type": "code",
   "execution_count": null,
   "metadata": {},
   "outputs": [],
   "source": [
    "article_feature_importances = pd.DataFrame(\n",
    "    zip(articles_inputs, articles_model.feature_importances_)\n",
    "            )"
   ]
  },
  {
   "cell_type": "code",
   "execution_count": null,
   "metadata": {},
   "outputs": [],
   "source": [
    "article_feature_importances.sort_values(1, ascending=False)"
   ]
  },
  {
   "cell_type": "markdown",
   "metadata": {},
   "source": [
    "### output probability predictions from first layer"
   ]
  },
  {
   "cell_type": "code",
   "execution_count": null,
   "metadata": {},
   "outputs": [],
   "source": [
    "# output dataframes for next model layer\n",
    "reviews_layer_output = format_next_layer_df(reviews_model_df,\n",
    "                                            reviews_model,\n",
    "                                            reviews_inputs)\n",
    "\n",
    "articles_layer_output = format_next_layer_df(articles_model_df,\n",
    "                                             articles_model,\n",
    "                                             articles_inputs)"
   ]
  },
  {
   "cell_type": "code",
   "execution_count": null,
   "metadata": {},
   "outputs": [],
   "source": [
    "# then join them together & join in lineups\n",
    "model_df = reviews_layer_output \\\n",
    "                .set_index(['artist_clean', 'fest_date']) \\\n",
    "            .join(articles_layer_output\n",
    "                      .set_index(['artist_clean', 'fest_date']),\n",
    "                  how = 'outer', lsuffix = '_reviews',\n",
    "                  rsuffix = '_articles').reset_index()\n",
    "\n",
    "full_model_df = join_lineups(model_df, lineups, 'outer')\n",
    "full_model_df.fillna(0, inplace=True)"
   ]
  },
  {
   "cell_type": "code",
   "execution_count": null,
   "metadata": {},
   "outputs": [],
   "source": [
    "full_model_df['review_x_article'] = full_model_df.prob_reviews \\\n",
    "                                        * full_model_df.prob_articles"
   ]
  },
  {
   "cell_type": "markdown",
   "metadata": {},
   "source": [
    "### final model"
   ]
  },
  {
   "cell_type": "code",
   "execution_count": null,
   "metadata": {},
   "outputs": [],
   "source": [
    "training_set = full_model_df.loc[\n",
    "                    full_model_df.fest_date != '2020-07-15']\n",
    "test_set = full_model_df.loc[\n",
    "                    full_model_df.fest_date == '2020-07-15']\n",
    "\n",
    "inputs = ['prob_reviews', 'prob_articles', 'played_previous_fest', \n",
    "          'review_x_article']\n",
    "ycol = ['played_fest']"
   ]
  },
  {
   "cell_type": "code",
   "execution_count": null,
   "metadata": {},
   "outputs": [],
   "source": [
    "full_model = RandomForestClassifier()\n",
    "full_model.fit(training_set[inputs], training_set[ycol])"
   ]
  },
  {
   "cell_type": "code",
   "execution_count": null,
   "metadata": {},
   "outputs": [],
   "source": [
    "preds = full_model.predict(test_set[inputs])\n",
    "prob_preds = full_model.predict_proba(test_set[inputs])"
   ]
  },
  {
   "cell_type": "code",
   "execution_count": null,
   "metadata": {},
   "outputs": [],
   "source": [
    "print_performance_metrics(test_set[ycol], preds)"
   ]
  },
  {
   "cell_type": "markdown",
   "metadata": {},
   "source": [
    "#### lol"
   ]
  },
  {
   "cell_type": "code",
   "execution_count": null,
   "metadata": {},
   "outputs": [],
   "source": [
    "training_preds = full_model.predict(training_set[inputs])\n",
    "training_preds_prob = full_model.predict_proba(training_set[inputs])"
   ]
  },
  {
   "cell_type": "code",
   "execution_count": null,
   "metadata": {},
   "outputs": [],
   "source": [
    "print_performance_metrics(training_set[ycol], training_preds)"
   ]
  },
  {
   "cell_type": "code",
   "execution_count": null,
   "metadata": {},
   "outputs": [],
   "source": [
    "results = training_set.reset_index() \\\n",
    "                .join(pd.DataFrame(training_preds_prob)[1]) \\\n",
    "                .join(pd.DataFrame(training_preds)) \\\n",
    "                .sort_values(1, ascending=False)"
   ]
  },
  {
   "cell_type": "code",
   "execution_count": null,
   "metadata": {},
   "outputs": [],
   "source": [
    "results.groupby(round(results['prob_articles'], 1)).agg({\n",
    "    'played_fest':'mean', 0:'mean', 'artist_clean':'count'\n",
    "})"
   ]
  },
  {
   "cell_type": "code",
   "execution_count": null,
   "metadata": {},
   "outputs": [],
   "source": [
    "pd.DataFrame(zip(inputs, full_model.feature_importances_))"
   ]
  },
  {
   "cell_type": "code",
   "execution_count": null,
   "metadata": {},
   "outputs": [],
   "source": [
    "training_set.shape"
   ]
  },
  {
   "cell_type": "code",
   "execution_count": null,
   "metadata": {},
   "outputs": [],
   "source": [
    "test_set.shape"
   ]
  },
  {
   "cell_type": "code",
   "execution_count": null,
   "metadata": {},
   "outputs": [],
   "source": []
  }
 ],
 "metadata": {
  "kernelspec": {
   "display_name": "Python 3",
   "language": "python",
   "name": "python3"
  },
  "language_info": {
   "codemirror_mode": {
    "name": "ipython",
    "version": 3
   },
   "file_extension": ".py",
   "mimetype": "text/x-python",
   "name": "python",
   "nbconvert_exporter": "python",
   "pygments_lexer": "ipython3",
   "version": "3.7.5"
  }
 },
 "nbformat": 4,
 "nbformat_minor": 4
}
