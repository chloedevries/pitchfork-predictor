{
 "cells": [
  {
   "cell_type": "code",
   "execution_count": 1,
   "metadata": {},
   "outputs": [],
   "source": [
    "import numpy as np\n",
    "import requests \n",
    "from bs4 import BeautifulSoup\n",
    "import pandas as pd\n",
    "import datetime\n",
    "\n",
    "import warnings\n",
    "\n",
    "#from scrapefork import *\n",
    "from cleaning_functions import *\n",
    "from create_pitchfork_lineups_data import *\n",
    "from other_utils import *"
   ]
  },
  {
   "cell_type": "code",
   "execution_count": 2,
   "metadata": {},
   "outputs": [],
   "source": [
    "warnings.simplefilter('ignore')"
   ]
  },
  {
   "cell_type": "markdown",
   "metadata": {},
   "source": [
    "utils files:\n",
    "1. scrapefork.py (borrowed)\n",
    "2. scrape_pitchfork_reviews.py\n",
    "3. scrape_pitchfork_features.py\n",
    "4. create_pitchfork_lineups_data.py\n",
    "5. cleaning_functions.py - all functions used too clean/munge/aggregate data for the model\n",
    "6. other_utils.py - functions to print model performance metrics\n",
    "    \n",
    "data files:\n",
    "1. data/raw_p4k_lineups.txt\n",
    "2. data/pitchfork_reviews.csv\n",
    "3. data/pitchfork_features_with_article_txt.csv"
   ]
  },
  {
   "cell_type": "code",
   "execution_count": 3,
   "metadata": {},
   "outputs": [],
   "source": [
    "# import & clean datasets\n",
    "\n",
    "# lineups\n",
    "filepath = 'data/raw_p4k_lineups.txt'\n",
    "lineups = get_lineups_data(filepath)\n",
    "\n",
    "# reviews\n",
    "reviews_df = pd.read_csv('data/pitchfork_reviews.csv')\n",
    "reviews = clean_reviews_df(reviews_df)\n",
    "\n",
    "# features\n",
    "articles_df = pd.read_csv('data/pitchfork_features_with_article_txt.csv')\n",
    "articles = clean_features_df(articles_df)"
   ]
  },
  {
   "cell_type": "markdown",
   "metadata": {},
   "source": [
    "### first model - reviews"
   ]
  },
  {
   "cell_type": "code",
   "execution_count": 4,
   "metadata": {},
   "outputs": [],
   "source": [
    "# first the reviews model\n",
    "# formatting - \n",
    "reviews_cumul = gather_cumulative_review_data_by_artist(reviews)\n",
    "reviews_cumul_final = add_review_features(reviews_cumul)\n",
    "reviews_dfs = group_cumul_reviews_by_year(reviews_cumul_final)\n",
    "\n",
    "# normalize numeric variables\n",
    "reviews_full_df = join_year_dfs(reviews_dfs)\n",
    "\n",
    "reviews_full_df['score_norm'] \\\n",
    "    = normalize_variable(reviews_full_df, 'score')\n",
    "    \n",
    "reviews_full_df['avg_cumul_score_norm'] \\\n",
    "    = normalize_variable(reviews_full_df, 'avg_cumul_score')\n",
    "\n",
    "reviews_full_df['days_to_announcement_norm'] \\\n",
    "    = normalize_variable(reviews_full_df, 'days_to_announcement')\n",
    "\n",
    "# interaction terms\n",
    "reviews_full_df['score_x_days'] = reviews_full_df.score_norm  \\\n",
    "                    * reviews_full_df.days_to_announcement_norm\n",
    "reviews_full_df['reissue_x_days'] = reviews_full_df.reissue \\\n",
    "                    * reviews_full_df.days_to_announcement_norm\n",
    "reviews_full_df['cumul_score_x_days'] = reviews_full_df.avg_cumul_score_norm \\\n",
    "                    * reviews_full_df.days_to_announcement_norm\n",
    "reviews_full_df['chicago_x_days'] = reviews_full_df.chicago_based \\\n",
    "                    * reviews_full_df.days_to_announcement_norm\n",
    "reviews_full_df['performance_x_days'] = reviews_full_df.performance_mention \\\n",
    "                    * reviews_full_df.days_to_announcement_norm\n",
    "reviews_full_df['best_x_days'] = reviews_full_df.best \\\n",
    "                    * reviews_full_df.days_to_announcement_norm\n",
    "reviews_full_df['chicago_x_score'] = reviews_full_df.chicago_based \\\n",
    "                    * reviews_full_df.score_norm\n",
    "reviews_full_df['performance_x_score'] = reviews_full_df.performance_mention \\\n",
    "                    * reviews_full_df.score_norm\n",
    "reviews_full_df['chicago_x_performance'] = reviews_full_df.chicago_based \\\n",
    "                    * reviews_full_df.performance_mention\n"
   ]
  },
  {
   "cell_type": "code",
   "execution_count": 5,
   "metadata": {},
   "outputs": [],
   "source": [
    "#from sklearn.feature_extraction.text import TfidfVectorizer \n",
    "\n",
    "#tfidf_vectorizer = TfidfVectorizer(stop_words = 'english')\n",
    "\n",
    "#X_reviews = tfidf_vectorizer.fit_transform(reviews_full_df['review']) \\\n",
    "#                            .toarray()\n",
    "\n",
    "#reviews_frequency_matrix = pd.DataFrame(X_reviews, columns \n",
    "#                                = tfidf_vectorizer.get_feature_names())\n",
    "\n",
    "#reviews_frequency_matrix = pd.read_csv('saved_features/reviews_frequeny_matrix.csv')"
   ]
  },
  {
   "cell_type": "code",
   "execution_count": 6,
   "metadata": {},
   "outputs": [],
   "source": [
    "#reviews_full_full_df = reviews_full_df.reset_index(drop=True) \\\n",
    "#                            .join(reviews_frequency_matrix, \n",
    "#                                  lsuffix='_review')"
   ]
  },
  {
   "cell_type": "code",
   "execution_count": 7,
   "metadata": {},
   "outputs": [],
   "source": [
    "#reviews_model_df = join_lineups(reviews_full_full_df, lineups, 'left')\n",
    "reviews_model_df = join_lineups(reviews_full_df, lineups, 'left')"
   ]
  },
  {
   "cell_type": "code",
   "execution_count": 8,
   "metadata": {},
   "outputs": [],
   "source": [
    "# train reviews sub-model\n",
    "reviews_training_set = reviews_model_df.loc[\n",
    "                    reviews_model_df.fest_date != '2020-07-15']\n",
    "reviews_test_set = reviews_model_df.loc[\n",
    "                    reviews_model_df.fest_date == '2020-07-15']\n",
    "\n",
    "reviews_inputs = ['score_norm', 'avg_cumul_score_norm', \n",
    "                  'best', 'previous_reviews_count', \n",
    "                  'performance_mention', 'chicago_based', 'reissue',\n",
    "                  'days_to_announcement_norm', \n",
    "                  'Rock', 'Rap', 'Jazz', 'Experimental', 'Pop/R&B',\n",
    "                  'Electronic', 'Metal', 'Global', 'Folk/Country',\n",
    "                  'score_x_days', 'reissue_x_days',\n",
    "                  'cumul_score_x_days', 'chicago_x_days',\n",
    "                  'performance_x_days', 'best_x_days',\n",
    "                  'chicago_x_score', 'performance_x_score',\n",
    "                  'chicago_x_performance'] #\\\n",
    "                   # + tfidf_vectorizer.get_feature_names()\n",
    "\n",
    "output = ['played_fest']"
   ]
  },
  {
   "cell_type": "code",
   "execution_count": 25,
   "metadata": {},
   "outputs": [
    {
     "data": {
      "text/plain": [
       "RandomForestClassifier(bootstrap=True, ccp_alpha=0.0, class_weight=None,\n",
       "                       criterion='gini', max_depth=None, max_features='auto',\n",
       "                       max_leaf_nodes=None, max_samples=None,\n",
       "                       min_impurity_decrease=0.0, min_impurity_split=None,\n",
       "                       min_samples_leaf=1, min_samples_split=2,\n",
       "                       min_weight_fraction_leaf=0.0, n_estimators=100,\n",
       "                       n_jobs=None, oob_score=False, random_state=None,\n",
       "                       verbose=0, warm_start=False)"
      ]
     },
     "execution_count": 25,
     "metadata": {},
     "output_type": "execute_result"
    }
   ],
   "source": [
    "from sklearn.ensemble import RandomForestClassifier\n",
    "\n",
    "X_train = reviews_training_set[reviews_inputs]\n",
    "y_train = reviews_training_set[output].astype('int')\n",
    "X_test = reviews_test_set[reviews_inputs]\n",
    "y_test = reviews_test_set[output].astype('int')\n",
    "\n",
    "reviews_model = RandomForestClassifier()\n",
    "reviews_model.fit(X_train, y_train)"
   ]
  },
  {
   "cell_type": "code",
   "execution_count": 20,
   "metadata": {},
   "outputs": [
    {
     "name": "stdout",
     "output_type": "stream",
     "text": [
      "f1:  0.0\n",
      "accuracy:  0.996\n",
      "precision:  0.0\n",
      "recall:  0.0\n",
      "              predicted false  predicted true\n",
      "actual false             8800               4\n",
      "actual true                34               0\n"
     ]
    }
   ],
   "source": [
    "# performance LOL\n",
    "from sklearn.metrics import f1_score, accuracy_score, precision_score, \\\n",
    "                            recall_score, confusion_matrix\n",
    "\n",
    "reviews_preds = reviews_model.predict(X_test)\n",
    "print_performance_metrics(y_test, reviews_preds)"
   ]
  },
  {
   "cell_type": "code",
   "execution_count": 26,
   "metadata": {},
   "outputs": [
    {
     "name": "stdout",
     "output_type": "stream",
     "text": [
      "f1:  0.992\n",
      "accuracy:  1.0\n",
      "precision:  0.998\n",
      "recall:  0.985\n",
      "              predicted false  predicted true\n",
      "actual false            67905               1\n",
      "actual true                 7             469\n"
     ]
    }
   ],
   "source": [
    "reviews_training_preds = reviews_model.predict(X_train)\n",
    "print_performance_metrics(y_train, reviews_training_preds)"
   ]
  },
  {
   "cell_type": "code",
   "execution_count": 21,
   "metadata": {},
   "outputs": [
    {
     "name": "stdout",
     "output_type": "stream",
     "text": [
      "training f1:  0.28468468468468466\n",
      "test f1:  0.0\n"
     ]
    },
    {
     "data": {
      "text/plain": [
       "RandomForestClassifier(bootstrap=True, ccp_alpha=0.0, class_weight=None,\n",
       "                       criterion='gini', max_depth=15, max_features='auto',\n",
       "                       max_leaf_nodes=None, max_samples=None,\n",
       "                       min_impurity_decrease=0.0, min_impurity_split=None,\n",
       "                       min_samples_leaf=2, min_samples_split=6,\n",
       "                       min_weight_fraction_leaf=0.0, n_estimators=100,\n",
       "                       n_jobs=None, oob_score=False, random_state=None,\n",
       "                       verbose=0, warm_start=False)"
      ]
     },
     "execution_count": 21,
     "metadata": {},
     "output_type": "execute_result"
    }
   ],
   "source": [
    "# trying out grid search to tune model\n",
    "from sklearn.metrics import make_scorer\n",
    "from sklearn.model_selection import GridSearchCV\n",
    "\n",
    "reviews_model = RandomForestClassifier()\n",
    "\n",
    "parameters = {'max_depth':[10, 12, 15],\n",
    "              'n_estimators':[100, 200],\n",
    "              'min_samples_split':[6, 8],\n",
    "              'min_samples_leaf':[2, 4, 6]}\n",
    "\n",
    "scorer = make_scorer(f1_score)\n",
    "grid_obj = GridSearchCV(reviews_model, parameters, scoring=scorer)\n",
    "grid_fit = grid_obj.fit(X_train, y_train)\n",
    "\n",
    "best_reviews_model = grid_fit.best_estimator_\n",
    "best_reviews_model.fit(X_train, y_train)\n",
    "\n",
    "best_train_predictions = best_reviews_model.predict(X_train)\n",
    "best_test_predictions = best_reviews_model.predict(X_test)\n",
    "\n",
    "print('training f1: ', f1_score(best_train_predictions, y_train))\n",
    "print('test f1: ', f1_score(best_test_predictions, y_test))\n",
    "\n",
    "best_reviews_model"
   ]
  },
  {
   "cell_type": "code",
   "execution_count": 22,
   "metadata": {},
   "outputs": [
    {
     "name": "stdout",
     "output_type": "stream",
     "text": [
      "f1:  0.0\n",
      "accuracy:  0.996\n",
      "precision:  0.0\n",
      "recall:  0.0\n",
      "              predicted false  predicted true\n",
      "actual false             8803               1\n",
      "actual true                34               0\n"
     ]
    }
   ],
   "source": [
    "# performance on test set\n",
    "reviews_preds = best_reviews_model.predict(X_test)\n",
    "reviews_prob_preds = best_reviews_model.predict_proba(X_test)\n",
    "\n",
    "print_performance_metrics(y_test, reviews_preds)"
   ]
  },
  {
   "cell_type": "code",
   "execution_count": 23,
   "metadata": {},
   "outputs": [
    {
     "name": "stdout",
     "output_type": "stream",
     "text": [
      "f1:  0.285\n",
      "accuracy:  0.994\n",
      "precision:  1.0\n",
      "recall:  0.166\n",
      "              predicted false  predicted true\n",
      "actual false            67906               0\n",
      "actual true               397              79\n"
     ]
    }
   ],
   "source": [
    "# performance on training set\n",
    "reviews_training_preds = best_reviews_model.predict(X_train)\n",
    "reviews_training_prob_preds = best_reviews_model.predict_proba(X_train)\n",
    "\n",
    "print_performance_metrics(y_train, \n",
    "                          reviews_training_preds)"
   ]
  },
  {
   "cell_type": "code",
   "execution_count": 24,
   "metadata": {},
   "outputs": [
    {
     "data": {
      "text/html": [
       "<div>\n",
       "<style scoped>\n",
       "    .dataframe tbody tr th:only-of-type {\n",
       "        vertical-align: middle;\n",
       "    }\n",
       "\n",
       "    .dataframe tbody tr th {\n",
       "        vertical-align: top;\n",
       "    }\n",
       "\n",
       "    .dataframe thead th {\n",
       "        text-align: right;\n",
       "    }\n",
       "</style>\n",
       "<table border=\"1\" class=\"dataframe\">\n",
       "  <thead>\n",
       "    <tr style=\"text-align: right;\">\n",
       "      <th></th>\n",
       "      <th>0</th>\n",
       "      <th>1</th>\n",
       "    </tr>\n",
       "  </thead>\n",
       "  <tbody>\n",
       "    <tr>\n",
       "      <th>0</th>\n",
       "      <td>score_norm</td>\n",
       "      <td>0.082309</td>\n",
       "    </tr>\n",
       "    <tr>\n",
       "      <th>1</th>\n",
       "      <td>avg_cumul_score_norm</td>\n",
       "      <td>0.095033</td>\n",
       "    </tr>\n",
       "    <tr>\n",
       "      <th>2</th>\n",
       "      <td>best</td>\n",
       "      <td>0.029118</td>\n",
       "    </tr>\n",
       "    <tr>\n",
       "      <th>3</th>\n",
       "      <td>previous_reviews_count</td>\n",
       "      <td>0.040512</td>\n",
       "    </tr>\n",
       "    <tr>\n",
       "      <th>4</th>\n",
       "      <td>performance_mention</td>\n",
       "      <td>0.003918</td>\n",
       "    </tr>\n",
       "    <tr>\n",
       "      <th>5</th>\n",
       "      <td>chicago_based</td>\n",
       "      <td>0.002999</td>\n",
       "    </tr>\n",
       "    <tr>\n",
       "      <th>6</th>\n",
       "      <td>reissue</td>\n",
       "      <td>0.025346</td>\n",
       "    </tr>\n",
       "    <tr>\n",
       "      <th>7</th>\n",
       "      <td>days_to_announcement_norm</td>\n",
       "      <td>0.142615</td>\n",
       "    </tr>\n",
       "    <tr>\n",
       "      <th>8</th>\n",
       "      <td>Rock</td>\n",
       "      <td>0.017544</td>\n",
       "    </tr>\n",
       "    <tr>\n",
       "      <th>9</th>\n",
       "      <td>Rap</td>\n",
       "      <td>0.010387</td>\n",
       "    </tr>\n",
       "    <tr>\n",
       "      <th>10</th>\n",
       "      <td>Jazz</td>\n",
       "      <td>0.001350</td>\n",
       "    </tr>\n",
       "    <tr>\n",
       "      <th>11</th>\n",
       "      <td>Experimental</td>\n",
       "      <td>0.006026</td>\n",
       "    </tr>\n",
       "    <tr>\n",
       "      <th>12</th>\n",
       "      <td>Pop/R&amp;B</td>\n",
       "      <td>0.007924</td>\n",
       "    </tr>\n",
       "    <tr>\n",
       "      <th>13</th>\n",
       "      <td>Electronic</td>\n",
       "      <td>0.007561</td>\n",
       "    </tr>\n",
       "    <tr>\n",
       "      <th>14</th>\n",
       "      <td>Metal</td>\n",
       "      <td>0.002438</td>\n",
       "    </tr>\n",
       "    <tr>\n",
       "      <th>15</th>\n",
       "      <td>Global</td>\n",
       "      <td>0.001156</td>\n",
       "    </tr>\n",
       "    <tr>\n",
       "      <th>16</th>\n",
       "      <td>Folk/Country</td>\n",
       "      <td>0.004397</td>\n",
       "    </tr>\n",
       "    <tr>\n",
       "      <th>17</th>\n",
       "      <td>score_x_days</td>\n",
       "      <td>0.157217</td>\n",
       "    </tr>\n",
       "    <tr>\n",
       "      <th>18</th>\n",
       "      <td>reissue_x_days</td>\n",
       "      <td>0.042559</td>\n",
       "    </tr>\n",
       "    <tr>\n",
       "      <th>19</th>\n",
       "      <td>cumul_score_x_days</td>\n",
       "      <td>0.157330</td>\n",
       "    </tr>\n",
       "    <tr>\n",
       "      <th>20</th>\n",
       "      <td>chicago_x_days</td>\n",
       "      <td>0.014683</td>\n",
       "    </tr>\n",
       "    <tr>\n",
       "      <th>21</th>\n",
       "      <td>performance_x_days</td>\n",
       "      <td>0.025929</td>\n",
       "    </tr>\n",
       "    <tr>\n",
       "      <th>22</th>\n",
       "      <td>best_x_days</td>\n",
       "      <td>0.093855</td>\n",
       "    </tr>\n",
       "    <tr>\n",
       "      <th>23</th>\n",
       "      <td>chicago_x_score</td>\n",
       "      <td>0.010767</td>\n",
       "    </tr>\n",
       "    <tr>\n",
       "      <th>24</th>\n",
       "      <td>performance_x_score</td>\n",
       "      <td>0.016186</td>\n",
       "    </tr>\n",
       "    <tr>\n",
       "      <th>25</th>\n",
       "      <td>chicago_x_performance</td>\n",
       "      <td>0.000840</td>\n",
       "    </tr>\n",
       "  </tbody>\n",
       "</table>\n",
       "</div>"
      ],
      "text/plain": [
       "                            0         1\n",
       "0                  score_norm  0.082309\n",
       "1        avg_cumul_score_norm  0.095033\n",
       "2                        best  0.029118\n",
       "3      previous_reviews_count  0.040512\n",
       "4         performance_mention  0.003918\n",
       "5               chicago_based  0.002999\n",
       "6                     reissue  0.025346\n",
       "7   days_to_announcement_norm  0.142615\n",
       "8                        Rock  0.017544\n",
       "9                         Rap  0.010387\n",
       "10                       Jazz  0.001350\n",
       "11               Experimental  0.006026\n",
       "12                    Pop/R&B  0.007924\n",
       "13                 Electronic  0.007561\n",
       "14                      Metal  0.002438\n",
       "15                     Global  0.001156\n",
       "16               Folk/Country  0.004397\n",
       "17               score_x_days  0.157217\n",
       "18             reissue_x_days  0.042559\n",
       "19         cumul_score_x_days  0.157330\n",
       "20             chicago_x_days  0.014683\n",
       "21         performance_x_days  0.025929\n",
       "22                best_x_days  0.093855\n",
       "23            chicago_x_score  0.010767\n",
       "24        performance_x_score  0.016186\n",
       "25      chicago_x_performance  0.000840"
      ]
     },
     "execution_count": 24,
     "metadata": {},
     "output_type": "execute_result"
    }
   ],
   "source": [
    "# look at feature importances\n",
    "pd.DataFrame(zip(reviews_inputs, best_reviews_model.feature_importances_))"
   ]
  },
  {
   "cell_type": "markdown",
   "metadata": {},
   "source": [
    "### second model - articles"
   ]
  },
  {
   "cell_type": "code",
   "execution_count": 27,
   "metadata": {},
   "outputs": [],
   "source": [
    "# now the articles model\n",
    "# formatting - \n",
    "articles_dfs = group_articles_by_year(articles)\n",
    "\n",
    "# join into full df\n",
    "articles_full_df = join_year_dfs(articles_dfs)\n",
    "# normalize date var\n",
    "articles_full_df['days_to_announcement_norm'] \\\n",
    "    = normalize_variable(articles_full_df, 'days_to_announcement')"
   ]
  },
  {
   "cell_type": "code",
   "execution_count": 28,
   "metadata": {},
   "outputs": [],
   "source": [
    "from sklearn.feature_extraction.text import TfidfVectorizer \n",
    "\n",
    "tfidf_vectorizer = TfidfVectorizer(stop_words = 'english')\n",
    "\n",
    "X_article = tfidf_vectorizer.fit_transform(articles_full_df['article']).toarray()\n",
    "\n",
    "articles_frequency_matrix = pd.DataFrame(X_article, columns \n",
    "                                = tfidf_vectorizer.get_feature_names())"
   ]
  },
  {
   "cell_type": "code",
   "execution_count": 29,
   "metadata": {},
   "outputs": [],
   "source": [
    "articles_full_full_df = articles_full_df.reset_index(drop=True) \\\n",
    "                    .join(articles_frequency_matrix, lsuffix='_article')"
   ]
  },
  {
   "cell_type": "code",
   "execution_count": 30,
   "metadata": {},
   "outputs": [],
   "source": [
    "# join y col\n",
    "articles_model_df = join_lineups(articles_full_full_df, \n",
    "                                 lineups, 'left')"
   ]
  },
  {
   "cell_type": "code",
   "execution_count": 37,
   "metadata": {},
   "outputs": [],
   "source": [
    "# train articles sub-model\n",
    "articles_training_set = articles_model_df.loc[\n",
    "                        articles_model_df.fest_date != '2020-07-15']\n",
    "articles_test_set = articles_model_df.loc[\n",
    "                        articles_model_df.fest_date == '2020-07-15']\n",
    "\n",
    "articles_inputs = ['days_to_announcement_norm', 'artist_count',\n",
    "                   'Interview', 'Moodboard', 'Rising', 'Song by Song',\n",
    "                   '5-10-15-20', 'Longform', 'Profile', 'Lists & Guides', \n",
    "                   'Photo Gallery', 'Podcast', 'Family Matters', \n",
    "                   'Overtones', 'Festival Report', 'Cover Story',\n",
    "                   'Afterword', 'Situation Critical', 'Director\\'s Cut'] \\\n",
    "                    + tfidf_vectorizer.get_feature_names()\n",
    "\n",
    "output = ['played_fest']"
   ]
  },
  {
   "cell_type": "code",
   "execution_count": 38,
   "metadata": {},
   "outputs": [
    {
     "data": {
      "text/plain": [
       "RandomForestClassifier(bootstrap=True, ccp_alpha=0.0, class_weight=None,\n",
       "                       criterion='gini', max_depth=None, max_features='auto',\n",
       "                       max_leaf_nodes=None, max_samples=None,\n",
       "                       min_impurity_decrease=0.0, min_impurity_split=None,\n",
       "                       min_samples_leaf=1, min_samples_split=2,\n",
       "                       min_weight_fraction_leaf=0.0, n_estimators=100,\n",
       "                       n_jobs=None, oob_score=False, random_state=None,\n",
       "                       verbose=0, warm_start=False)"
      ]
     },
     "execution_count": 38,
     "metadata": {},
     "output_type": "execute_result"
    }
   ],
   "source": [
    "X_train = articles_training_set[articles_inputs]\n",
    "y_train = articles_training_set[output].astype('int')\n",
    "X_test = articles_test_set[articles_inputs]\n",
    "y_test = articles_test_set[output].astype('int')\n",
    "\n",
    "articles_model = RandomForestClassifier()\n",
    "articles_model.fit(X_train, y_train)"
   ]
  },
  {
   "cell_type": "code",
   "execution_count": 39,
   "metadata": {},
   "outputs": [
    {
     "name": "stdout",
     "output_type": "stream",
     "text": [
      "f1:  0.0\n",
      "accuracy:  0.952\n",
      "precision:  0.0\n",
      "recall:  0.0\n",
      "              predicted false  predicted true\n",
      "actual false              295               0\n",
      "actual true                15               0\n"
     ]
    }
   ],
   "source": [
    "# basic performance\n",
    "articles_preds = articles_model.predict(X_test)\n",
    "print_performance_metrics(y_test, articles_preds)"
   ]
  },
  {
   "cell_type": "code",
   "execution_count": 40,
   "metadata": {},
   "outputs": [
    {
     "name": "stdout",
     "output_type": "stream",
     "text": [
      "f1:  0.263\n",
      "accuracy:  0.974\n",
      "precision:  0.952\n",
      "recall:  0.152\n",
      "              predicted false  predicted true\n",
      "actual false            12414               3\n",
      "actual true               334              60\n"
     ]
    }
   ],
   "source": [
    "# basic performance on training\n",
    "articles_training_preds = articles_model.predict(X_train)\n",
    "print_performance_metrics(y_train, articles_training_preds)"
   ]
  },
  {
   "cell_type": "code",
   "execution_count": 41,
   "metadata": {},
   "outputs": [],
   "source": [
    "article_feature_importances = pd.DataFrame(\n",
    "    zip(articles_inputs, articles_model.feature_importances_)\n",
    "            )"
   ]
  },
  {
   "cell_type": "code",
   "execution_count": 42,
   "metadata": {},
   "outputs": [
    {
     "data": {
      "text/html": [
       "<div>\n",
       "<style scoped>\n",
       "    .dataframe tbody tr th:only-of-type {\n",
       "        vertical-align: middle;\n",
       "    }\n",
       "\n",
       "    .dataframe tbody tr th {\n",
       "        vertical-align: top;\n",
       "    }\n",
       "\n",
       "    .dataframe thead th {\n",
       "        text-align: right;\n",
       "    }\n",
       "</style>\n",
       "<table border=\"1\" class=\"dataframe\">\n",
       "  <thead>\n",
       "    <tr style=\"text-align: right;\">\n",
       "      <th></th>\n",
       "      <th>0</th>\n",
       "      <th>1</th>\n",
       "    </tr>\n",
       "  </thead>\n",
       "  <tbody>\n",
       "    <tr>\n",
       "      <th>7</th>\n",
       "      <td>Longform</td>\n",
       "      <td>0.012349</td>\n",
       "    </tr>\n",
       "    <tr>\n",
       "      <th>0</th>\n",
       "      <td>days_to_announcement_norm</td>\n",
       "      <td>0.007861</td>\n",
       "    </tr>\n",
       "    <tr>\n",
       "      <th>6668</th>\n",
       "      <td>best</td>\n",
       "      <td>0.004781</td>\n",
       "    </tr>\n",
       "    <tr>\n",
       "      <th>5</th>\n",
       "      <td>Song by Song</td>\n",
       "      <td>0.003200</td>\n",
       "    </tr>\n",
       "    <tr>\n",
       "      <th>10</th>\n",
       "      <td>Photo Gallery</td>\n",
       "      <td>0.002717</td>\n",
       "    </tr>\n",
       "    <tr>\n",
       "      <th>...</th>\n",
       "      <td>...</td>\n",
       "      <td>...</td>\n",
       "    </tr>\n",
       "    <tr>\n",
       "      <th>27486</th>\n",
       "      <td>hannett</td>\n",
       "      <td>0.000000</td>\n",
       "    </tr>\n",
       "    <tr>\n",
       "      <th>27487</th>\n",
       "      <td>hanni</td>\n",
       "      <td>0.000000</td>\n",
       "    </tr>\n",
       "    <tr>\n",
       "      <th>27489</th>\n",
       "      <td>hannoda</td>\n",
       "      <td>0.000000</td>\n",
       "    </tr>\n",
       "    <tr>\n",
       "      <th>27490</th>\n",
       "      <td>hannon</td>\n",
       "      <td>0.000000</td>\n",
       "    </tr>\n",
       "    <tr>\n",
       "      <th>69182</th>\n",
       "      <td>ﬂower</td>\n",
       "      <td>0.000000</td>\n",
       "    </tr>\n",
       "  </tbody>\n",
       "</table>\n",
       "<p>69183 rows × 2 columns</p>\n",
       "</div>"
      ],
      "text/plain": [
       "                               0         1\n",
       "7                       Longform  0.012349\n",
       "0      days_to_announcement_norm  0.007861\n",
       "6668                        best  0.004781\n",
       "5                   Song by Song  0.003200\n",
       "10                 Photo Gallery  0.002717\n",
       "...                          ...       ...\n",
       "27486                    hannett  0.000000\n",
       "27487                      hanni  0.000000\n",
       "27489                    hannoda  0.000000\n",
       "27490                     hannon  0.000000\n",
       "69182                      ﬂower  0.000000\n",
       "\n",
       "[69183 rows x 2 columns]"
      ]
     },
     "execution_count": 42,
     "metadata": {},
     "output_type": "execute_result"
    }
   ],
   "source": [
    "article_feature_importances.sort_values(1, ascending=False)"
   ]
  },
  {
   "cell_type": "markdown",
   "metadata": {},
   "source": [
    "### output probability predictions from first layer"
   ]
  },
  {
   "cell_type": "code",
   "execution_count": 43,
   "metadata": {},
   "outputs": [],
   "source": [
    "# output dataframes for next model layer\n",
    "reviews_layer_output = format_next_layer_df(reviews_model_df,\n",
    "                                            reviews_model,\n",
    "                                            reviews_inputs)\n",
    "\n",
    "articles_layer_output = format_next_layer_df(articles_model_df,\n",
    "                                             articles_model,\n",
    "                                             articles_inputs)"
   ]
  },
  {
   "cell_type": "code",
   "execution_count": 44,
   "metadata": {},
   "outputs": [],
   "source": [
    "# then join them together & join in lineups\n",
    "model_df = reviews_layer_output \\\n",
    "                .set_index(['artist_clean', 'fest_date']) \\\n",
    "            .join(articles_layer_output\n",
    "                      .set_index(['artist_clean', 'fest_date']),\n",
    "                  how = 'outer', lsuffix = '_reviews',\n",
    "                  rsuffix = '_articles').reset_index()\n",
    "\n",
    "full_model_df = join_lineups(model_df, lineups, 'outer')\n",
    "full_model_df.fillna(0, inplace=True)"
   ]
  },
  {
   "cell_type": "code",
   "execution_count": 45,
   "metadata": {},
   "outputs": [],
   "source": [
    "full_model_df['review_x_article'] = full_model_df.prob_reviews \\\n",
    "                                        * full_model_df.prob_articles"
   ]
  },
  {
   "cell_type": "markdown",
   "metadata": {},
   "source": [
    "### final model"
   ]
  },
  {
   "cell_type": "code",
   "execution_count": 46,
   "metadata": {},
   "outputs": [],
   "source": [
    "training_set = full_model_df.loc[\n",
    "                    full_model_df.fest_date != '2020-07-15']\n",
    "test_set = full_model_df.loc[\n",
    "                    full_model_df.fest_date == '2020-07-15']\n",
    "\n",
    "inputs = ['prob_reviews', 'prob_articles', 'played_previous_fest', \n",
    "          'review_x_article']\n",
    "ycol = ['played_fest']"
   ]
  },
  {
   "cell_type": "code",
   "execution_count": 47,
   "metadata": {},
   "outputs": [
    {
     "data": {
      "text/plain": [
       "RandomForestClassifier(bootstrap=True, ccp_alpha=0.0, class_weight=None,\n",
       "                       criterion='gini', max_depth=None, max_features='auto',\n",
       "                       max_leaf_nodes=None, max_samples=None,\n",
       "                       min_impurity_decrease=0.0, min_impurity_split=None,\n",
       "                       min_samples_leaf=1, min_samples_split=2,\n",
       "                       min_weight_fraction_leaf=0.0, n_estimators=100,\n",
       "                       n_jobs=None, oob_score=False, random_state=None,\n",
       "                       verbose=0, warm_start=False)"
      ]
     },
     "execution_count": 47,
     "metadata": {},
     "output_type": "execute_result"
    }
   ],
   "source": [
    "full_model = RandomForestClassifier()\n",
    "full_model.fit(training_set[inputs], training_set[ycol])"
   ]
  },
  {
   "cell_type": "code",
   "execution_count": 48,
   "metadata": {},
   "outputs": [],
   "source": [
    "preds = full_model.predict(test_set[inputs])\n",
    "prob_preds = full_model.predict_proba(test_set[inputs])"
   ]
  },
  {
   "cell_type": "code",
   "execution_count": 49,
   "metadata": {},
   "outputs": [
    {
     "name": "stdout",
     "output_type": "stream",
     "text": [
      "f1:  0.113\n",
      "accuracy:  0.995\n",
      "precision:  0.273\n",
      "recall:  0.071\n",
      "              predicted false  predicted true\n",
      "actual false             8846               8\n",
      "actual true                39               3\n"
     ]
    }
   ],
   "source": [
    "print_performance_metrics(test_set[ycol], preds)"
   ]
  },
  {
   "cell_type": "markdown",
   "metadata": {},
   "source": [
    "#### lol"
   ]
  },
  {
   "cell_type": "code",
   "execution_count": 50,
   "metadata": {},
   "outputs": [],
   "source": [
    "training_preds = full_model.predict(training_set[inputs])\n",
    "training_preds_prob = full_model.predict_proba(training_set[inputs])"
   ]
  },
  {
   "cell_type": "code",
   "execution_count": 51,
   "metadata": {},
   "outputs": [
    {
     "name": "stdout",
     "output_type": "stream",
     "text": [
      "f1:  0.896\n",
      "accuracy:  0.998\n",
      "precision:  0.996\n",
      "recall:  0.814\n",
      "              predicted false  predicted true\n",
      "actual false            74051               2\n",
      "actual true               110             480\n"
     ]
    }
   ],
   "source": [
    "print_performance_metrics(training_set[ycol], training_preds)"
   ]
  },
  {
   "cell_type": "code",
   "execution_count": 52,
   "metadata": {},
   "outputs": [],
   "source": [
    "results = training_set.reset_index() \\\n",
    "                .join(pd.DataFrame(training_preds_prob)[1]) \\\n",
    "                .join(pd.DataFrame(training_preds)) \\\n",
    "                .sort_values(1, ascending=False)"
   ]
  },
  {
   "cell_type": "code",
   "execution_count": 53,
   "metadata": {},
   "outputs": [
    {
     "data": {
      "text/html": [
       "<div>\n",
       "<style scoped>\n",
       "    .dataframe tbody tr th:only-of-type {\n",
       "        vertical-align: middle;\n",
       "    }\n",
       "\n",
       "    .dataframe tbody tr th {\n",
       "        vertical-align: top;\n",
       "    }\n",
       "\n",
       "    .dataframe thead th {\n",
       "        text-align: right;\n",
       "    }\n",
       "</style>\n",
       "<table border=\"1\" class=\"dataframe\">\n",
       "  <thead>\n",
       "    <tr style=\"text-align: right;\">\n",
       "      <th></th>\n",
       "      <th>played_fest</th>\n",
       "      <th>0</th>\n",
       "      <th>artist_clean</th>\n",
       "    </tr>\n",
       "    <tr>\n",
       "      <th>prob_articles</th>\n",
       "      <th></th>\n",
       "      <th></th>\n",
       "      <th></th>\n",
       "    </tr>\n",
       "  </thead>\n",
       "  <tbody>\n",
       "    <tr>\n",
       "      <th>0.0</th>\n",
       "      <td>0.003184</td>\n",
       "      <td>0.002021</td>\n",
       "      <td>72239</td>\n",
       "    </tr>\n",
       "    <tr>\n",
       "      <th>0.1</th>\n",
       "      <td>0.089791</td>\n",
       "      <td>0.080566</td>\n",
       "      <td>1626</td>\n",
       "    </tr>\n",
       "    <tr>\n",
       "      <th>0.2</th>\n",
       "      <td>0.193811</td>\n",
       "      <td>0.180782</td>\n",
       "      <td>614</td>\n",
       "    </tr>\n",
       "    <tr>\n",
       "      <th>0.3</th>\n",
       "      <td>0.294118</td>\n",
       "      <td>0.294118</td>\n",
       "      <td>68</td>\n",
       "    </tr>\n",
       "    <tr>\n",
       "      <th>0.4</th>\n",
       "      <td>0.444444</td>\n",
       "      <td>0.407407</td>\n",
       "      <td>27</td>\n",
       "    </tr>\n",
       "    <tr>\n",
       "      <th>0.5</th>\n",
       "      <td>0.571429</td>\n",
       "      <td>0.571429</td>\n",
       "      <td>7</td>\n",
       "    </tr>\n",
       "    <tr>\n",
       "      <th>0.6</th>\n",
       "      <td>0.969697</td>\n",
       "      <td>0.969697</td>\n",
       "      <td>33</td>\n",
       "    </tr>\n",
       "    <tr>\n",
       "      <th>0.7</th>\n",
       "      <td>0.923077</td>\n",
       "      <td>0.923077</td>\n",
       "      <td>26</td>\n",
       "    </tr>\n",
       "    <tr>\n",
       "      <th>0.8</th>\n",
       "      <td>1.000000</td>\n",
       "      <td>1.000000</td>\n",
       "      <td>3</td>\n",
       "    </tr>\n",
       "  </tbody>\n",
       "</table>\n",
       "</div>"
      ],
      "text/plain": [
       "               played_fest         0  artist_clean\n",
       "prob_articles                                     \n",
       "0.0               0.003184  0.002021         72239\n",
       "0.1               0.089791  0.080566          1626\n",
       "0.2               0.193811  0.180782           614\n",
       "0.3               0.294118  0.294118            68\n",
       "0.4               0.444444  0.407407            27\n",
       "0.5               0.571429  0.571429             7\n",
       "0.6               0.969697  0.969697            33\n",
       "0.7               0.923077  0.923077            26\n",
       "0.8               1.000000  1.000000             3"
      ]
     },
     "execution_count": 53,
     "metadata": {},
     "output_type": "execute_result"
    }
   ],
   "source": [
    "results.groupby(round(results['prob_articles'], 1)).agg({\n",
    "    'played_fest':'mean', 0:'mean', 'artist_clean':'count'\n",
    "})"
   ]
  },
  {
   "cell_type": "code",
   "execution_count": 55,
   "metadata": {},
   "outputs": [
    {
     "data": {
      "text/html": [
       "<div>\n",
       "<style scoped>\n",
       "    .dataframe tbody tr th:only-of-type {\n",
       "        vertical-align: middle;\n",
       "    }\n",
       "\n",
       "    .dataframe tbody tr th {\n",
       "        vertical-align: top;\n",
       "    }\n",
       "\n",
       "    .dataframe thead th {\n",
       "        text-align: right;\n",
       "    }\n",
       "</style>\n",
       "<table border=\"1\" class=\"dataframe\">\n",
       "  <thead>\n",
       "    <tr style=\"text-align: right;\">\n",
       "      <th></th>\n",
       "      <th>0</th>\n",
       "      <th>1</th>\n",
       "    </tr>\n",
       "  </thead>\n",
       "  <tbody>\n",
       "    <tr>\n",
       "      <th>0</th>\n",
       "      <td>prob_reviews</td>\n",
       "      <td>0.718991</td>\n",
       "    </tr>\n",
       "    <tr>\n",
       "      <th>1</th>\n",
       "      <td>prob_articles</td>\n",
       "      <td>0.029993</td>\n",
       "    </tr>\n",
       "    <tr>\n",
       "      <th>2</th>\n",
       "      <td>played_previous_fest</td>\n",
       "      <td>0.041913</td>\n",
       "    </tr>\n",
       "    <tr>\n",
       "      <th>3</th>\n",
       "      <td>review_x_article</td>\n",
       "      <td>0.209103</td>\n",
       "    </tr>\n",
       "  </tbody>\n",
       "</table>\n",
       "</div>"
      ],
      "text/plain": [
       "                      0         1\n",
       "0          prob_reviews  0.718991\n",
       "1         prob_articles  0.029993\n",
       "2  played_previous_fest  0.041913\n",
       "3      review_x_article  0.209103"
      ]
     },
     "execution_count": 55,
     "metadata": {},
     "output_type": "execute_result"
    }
   ],
   "source": [
    "pd.DataFrame(zip(inputs, full_model.feature_importances_))"
   ]
  },
  {
   "cell_type": "code",
   "execution_count": null,
   "metadata": {},
   "outputs": [],
   "source": []
  }
 ],
 "metadata": {
  "kernelspec": {
   "display_name": "Python 3",
   "language": "python",
   "name": "python3"
  },
  "language_info": {
   "codemirror_mode": {
    "name": "ipython",
    "version": 3
   },
   "file_extension": ".py",
   "mimetype": "text/x-python",
   "name": "python",
   "nbconvert_exporter": "python",
   "pygments_lexer": "ipython3",
   "version": "3.7.5"
  }
 },
 "nbformat": 4,
 "nbformat_minor": 4
}
